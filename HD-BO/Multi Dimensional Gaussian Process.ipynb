{
 "cells": [
  {
   "cell_type": "code",
   "execution_count": 1,
   "metadata": {},
   "outputs": [
    {
     "name": "stderr",
     "output_type": "stream",
     "text": [
      "/Library/Frameworks/Python.framework/Versions/3.6/lib/python3.6/site-packages/ggplot/utils.py:81: FutureWarning: pandas.tslib is deprecated and will be removed in a future version.\n",
      "You can access Timestamp as pandas.Timestamp\n",
      "  pd.tslib.Timestamp,\n",
      "/Library/Frameworks/Python.framework/Versions/3.6/lib/python3.6/site-packages/ggplot/stats/smoothers.py:4: FutureWarning: The pandas.lib module is deprecated and will be removed in a future version. These are private functions and can be accessed from pandas._libs.lib instead\n",
      "  from pandas.lib import Timestamp\n",
      "/Library/Frameworks/Python.framework/Versions/3.6/lib/python3.6/site-packages/statsmodels/compat/pandas.py:56: FutureWarning: The pandas.core.datetools module is deprecated and will be removed in a future version. Please use the pandas.tseries module instead.\n",
      "  from pandas.core import datetools\n"
     ]
    }
   ],
   "source": [
    "from basicGP import BasicGP\n",
    "from blackBoxFunction import BlackBoxFunction as BBF\n",
    "from plot import Plotter\n",
    "from utilityFunctions import AcquisitionFunction, Optimizer\n",
    "\n",
    "import numpy as np\n",
    "from scipy import interpolate\n",
    "import matplotlib.pyplot as plt\n",
    "from matplotlib import cm\n",
    "from matplotlib.ticker import LinearLocator, FormatStrFormatter\n",
    "import random\n",
    "\n",
    "%matplotlib inline  \n",
    "%load_ext autoreload\n",
    "%autoreload 2\n",
    "\n",
    "np.random.seed(0)"
   ]
  },
  {
   "cell_type": "markdown",
   "metadata": {},
   "source": [
    "## Multidimensional case"
   ]
  },
  {
   "cell_type": "code",
   "execution_count": 2,
   "metadata": {},
   "outputs": [
    {
     "name": "stdout",
     "output_type": "stream",
     "text": [
      "(100, 2)\n",
      "(5,)\n"
     ]
    }
   ],
   "source": [
    "%autoreload 2\n",
    "\n",
    "# Prediction data\n",
    "n = 10\n",
    "samples = 5\n",
    "dimensions = 2\n",
    "dim_ranges = []\n",
    "\n",
    "for i in range(dimensions):\n",
    "    dim_ranges.append( np.linspace(-5, 5, n).reshape(-1,1) )\n",
    "    \n",
    "Xpred = np.array(np.meshgrid(*[x for x in dim_ranges])).T.reshape(-1,dimensions)\n",
    "print(Xpred.shape)\n",
    "\n",
    "#print(len(dim_meshgrids))\n",
    "#print(BBF.eval2d(*dim_meshgrids).shape)\n",
    "\n",
    "# Training data (without noise)\n",
    "Xtrain = np.random.choice(range(-5, 5), size=(samples, dimensions))\n",
    "ytrain = BBF.eval_multi(Xtrain)\n",
    "print(ytrain.shape)"
   ]
  },
  {
   "cell_type": "code",
   "execution_count": 3,
   "metadata": {},
   "outputs": [
    {
     "name": "stdout",
     "output_type": "stream",
     "text": [
      "(100, 2)\n",
      "(100,)\n",
      "(100,)\n"
     ]
    },
    {
     "name": "stderr",
     "output_type": "stream",
     "text": [
      "/Users/davidal/GoogleDrive/BachelorThesis/basicGP.py:52: RuntimeWarning: invalid value encountered in sqrt\n",
      "  return np.diagonal(np.sqrt(res)).reshape((-1,))\n"
     ]
    }
   ],
   "source": [
    "%autoreload 2\n",
    "\n",
    "GP = BasicGP(kernel_param=0.1)\n",
    "GP.set_datapoints(Xtrain, ytrain)\n",
    "GP.set_predictant(Xpred)\n",
    "\n",
    "GP.calculate_kernels()\n",
    "\n",
    "mean_vec = GP.predict_mean()\n",
    "stddev_vec = GP.predict_stddev()\n",
    "\n",
    "print(Xpred.shape)\n",
    "print(mean_vec.shape)\n",
    "print(stddev_vec.shape)"
   ]
  },
  {
   "cell_type": "markdown",
   "metadata": {},
   "source": [
    "## How to visualize the data? How to debug the process?"
   ]
  },
  {
   "cell_type": "code",
   "execution_count": 4,
   "metadata": {},
   "outputs": [
    {
     "ename": "TypeError",
     "evalue": "visualize_2D() missing 1 required positional argument: 'stddev_vec'",
     "output_type": "error",
     "traceback": [
      "\u001b[0;31m---------------------------------------------------------------------------\u001b[0m",
      "\u001b[0;31mTypeError\u001b[0m                                 Traceback (most recent call last)",
      "\u001b[0;32m<ipython-input-4-989df81e036e>\u001b[0m in \u001b[0;36m<module>\u001b[0;34m()\u001b[0m\n\u001b[1;32m      2\u001b[0m \u001b[0;34m\u001b[0m\u001b[0m\n\u001b[1;32m      3\u001b[0m \u001b[0mplotter\u001b[0m \u001b[0;34m=\u001b[0m \u001b[0mPlotter\u001b[0m\u001b[0;34m(\u001b[0m\u001b[0;34m)\u001b[0m\u001b[0;34m\u001b[0m\u001b[0m\n\u001b[0;32m----> 4\u001b[0;31m \u001b[0mplotter\u001b[0m\u001b[0;34m.\u001b[0m\u001b[0mvisualize_2D\u001b[0m\u001b[0;34m(\u001b[0m\u001b[0mXtrain\u001b[0m\u001b[0;34m,\u001b[0m \u001b[0mytrain\u001b[0m\u001b[0;34m,\u001b[0m \u001b[0mXpred\u001b[0m\u001b[0;34m,\u001b[0m \u001b[0mmean_vec\u001b[0m\u001b[0;34m,\u001b[0m \u001b[0mstddev_vec\u001b[0m\u001b[0;34m)\u001b[0m\u001b[0;34m\u001b[0m\u001b[0m\n\u001b[0m",
      "\u001b[0;31mTypeError\u001b[0m: visualize_2D() missing 1 required positional argument: 'stddev_vec'"
     ]
    }
   ],
   "source": [
    "%autoreload 2\n",
    "\n",
    "plotter = Plotter()\n",
    "plotter.visualize_2D(Xtrain, ytrain, Xpred, mean_vec, stddev_vec)"
   ]
  },
  {
   "cell_type": "code",
   "execution_count": null,
   "metadata": {},
   "outputs": [],
   "source": []
  },
  {
   "cell_type": "code",
   "execution_count": null,
   "metadata": {},
   "outputs": [],
   "source": []
  }
 ],
 "metadata": {
  "kernelspec": {
   "display_name": "Python 3",
   "language": "python",
   "name": "python3"
  },
  "language_info": {
   "codemirror_mode": {
    "name": "ipython",
    "version": 3
   },
   "file_extension": ".py",
   "mimetype": "text/x-python",
   "name": "python",
   "nbconvert_exporter": "python",
   "pygments_lexer": "ipython3",
   "version": "3.6.2"
  }
 },
 "nbformat": 4,
 "nbformat_minor": 2
}
