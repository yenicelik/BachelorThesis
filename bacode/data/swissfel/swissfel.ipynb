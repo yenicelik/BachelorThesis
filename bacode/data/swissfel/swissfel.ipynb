{
 "cells": [
  {
   "cell_type": "code",
   "execution_count": null,
   "metadata": {},
   "outputs": [],
   "source": [
    "from h5py import File\n",
    "import matplotlib.pyplot as plt\n",
    "import matplotlib.gridspec as gridspec\n",
    "import numpy as np \n",
    "import matplotlib.pyplot as plt\n",
    "import os\n",
    "%matplotlib inline"
   ]
  },
  {
   "cell_type": "code",
   "execution_count": null,
   "metadata": {},
   "outputs": [],
   "source": [
    "f_eval = File('evaluations.hdf5', 'r')"
   ]
  },
  {
   "cell_type": "code",
   "execution_count": null,
   "metadata": {},
   "outputs": [],
   "source": [
    "tables = [k for k in f_eval.keys()]\n",
    "print(f\"recorded runs: {tables}\")\n",
    "\n",
    "# tables = ['2'] # comment out if you want to use all tables\n",
    "\n",
    "print(f\"using tables {tables}\")\n",
    "\n",
    "# prepare data\n",
    "data = None\n",
    "\n",
    "for t in tables:\n",
    "    dset = f_eval[t]\n",
    "    if data is None:\n",
    "        data = dset[...].copy()\n",
    "    else:\n",
    "        data = np.concatenate((data, dset[...]))\n",
    "        \n",
    "num_rows = len(data)\n",
    "print(f\"Found {num_rows} evaluations.\")"
   ]
  },
  {
   "cell_type": "code",
   "execution_count": null,
   "metadata": {},
   "outputs": [],
   "source": [
    "Y = data['y'].reshape(-1,1)\n",
    "Y_std = data['y_std']\n",
    "X = data['x']\n",
    "steps = np.arange(len(Y))"
   ]
  },
  {
   "cell_type": "code",
   "execution_count": null,
   "metadata": {},
   "outputs": [],
   "source": [
    "# normalize data somehow, e.g.\n",
    "Y_normalized = (Y - np.mean(Y) )/ np.std(Y)\n",
    "Y_std/np.std(Y)\n",
    "\n",
    "# could fix likelihood noise to something like\n",
    "noise = np.mean(Y_std/np.std(Y))\n",
    "print(f\"noise: {noise}\")"
   ]
  },
  {
   "cell_type": "code",
   "execution_count": null,
   "metadata": {},
   "outputs": [],
   "source": [
    "# TODO: Find subspaces ;)\n",
    "\n",
    "import GPy\n",
    "matern32 = GPy.kern.Matern32(input_dim=5, variance=noise*noise)\n",
    "\n",
    "gp = GPy.models.GPRegression(X, Y_normalized, kernel=matern32)\n",
    "\n",
    "gp.likelihood.variance.fix()\n",
    "gp.optimize()\n",
    "\n",
    "print(gp) # resulting lengthscale seems way to large... we found something more like 0.3\n",
    "gp.log_likelihood() #\n",
    "\n",
    "# TODO: Plot function along first two main components"
   ]
  },
  {
   "cell_type": "code",
   "execution_count": null,
   "metadata": {},
   "outputs": [],
   "source": []
  }
 ],
 "metadata": {
  "kernelspec": {
   "display_name": "Python (swissfel_opt)",
   "language": "python",
   "name": "swissfel_opt"
  },
  "language_info": {
   "codemirror_mode": {
    "name": "ipython",
    "version": 3
   },
   "file_extension": ".py",
   "mimetype": "text/x-python",
   "name": "python",
   "nbconvert_exporter": "python",
   "pygments_lexer": "ipython3",
   "version": "3.6.3"
  }
 },
 "nbformat": 4,
 "nbformat_minor": 2
}
